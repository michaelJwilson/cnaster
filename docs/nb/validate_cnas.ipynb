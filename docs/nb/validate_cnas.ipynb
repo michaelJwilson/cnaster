{
 "cells": [
  {
   "cell_type": "code",
   "execution_count": 1,
   "id": "3a6a4d61-5adc-4a4e-b5ee-3b2bd7eadb8a",
   "metadata": {},
   "outputs": [],
   "source": [
    "%load_ext autoreload\n",
    "%autoreload 3"
   ]
  },
  {
   "cell_type": "code",
   "execution_count": 2,
   "id": "cbe83829-ede9-4844-bc49-0a6ac8c94478",
   "metadata": {},
   "outputs": [],
   "source": [
    "import logging\n",
    "import pandas as pd\n",
    "import numpy as np\n",
    "import pylab as pl\n",
    "\n",
    "from cnaster.config import JSONConfig\n",
    "from cnaster.io import get_spots, get_meta, get_umis\n",
    "from cnaster.sim.io import get_truth\n",
    "from cnaster.sim.clone import (\n",
    "    Clone,\n",
    "    get_clones,\n",
    "    query_clones,\n",
    "    construct_frac_cnas,\n",
    "    get_cnas,\n",
    ")"
   ]
  },
  {
   "cell_type": "code",
   "execution_count": 3,
   "id": "17ca68e4-33c7-456f-a3c5-ac6768877b64",
   "metadata": {},
   "outputs": [],
   "source": [
    "logging.basicConfig(\n",
    "    level=logging.INFO,\n",
    "    format=\"%(asctime)s - %(name)s - %(levelname)s - %(filename)s:%(lineno)d - %(message)s\",\n",
    "    datefmt=\"%Y-%m-%d %H:%M:%S\",\n",
    ")\n",
    "\n",
    "logger = logging.getLogger(__name__)"
   ]
  },
  {
   "cell_type": "markdown",
   "id": "2d8408d4-406f-4147-ba3f-fbcd1d977626",
   "metadata": {},
   "source": [
    "# NOTES\n",
    "- current sim. configuration assumes tumor purity of unity"
   ]
  },
  {
   "cell_type": "code",
   "execution_count": 4,
   "id": "ebfd5d14-0750-4f38-96e4-f18e73633ffb",
   "metadata": {},
   "outputs": [],
   "source": [
    "run_id = 0\n",
    "cpath = \"/Users/mw9568/repos/cnaster/sim_config.json\"\n",
    "sample_name = \"cnaster_002\"\n",
    "\n",
    "config = JSONConfig.from_file(cpath)"
   ]
  },
  {
   "cell_type": "code",
   "execution_count": 5,
   "id": "5e971f9e-33fa-4a41-8306-2109d32a4fa5",
   "metadata": {},
   "outputs": [
    {
     "name": "stderr",
     "output_type": "stream",
     "text": [
      "2025-06-17 10:10:52 - cnaster.io - INFO - io.py:13 - Reading spots from /Users/mw9568/scratch/cnaster/run0/cnaster_002/cnaster_002_visium.tsv.gz\n"
     ]
    },
    {
     "data": {
      "text/html": [
       "<div>\n",
       "<style scoped>\n",
       "    .dataframe tbody tr th:only-of-type {\n",
       "        vertical-align: middle;\n",
       "    }\n",
       "\n",
       "    .dataframe tbody tr th {\n",
       "        vertical-align: top;\n",
       "    }\n",
       "\n",
       "    .dataframe thead th {\n",
       "        text-align: right;\n",
       "    }\n",
       "</style>\n",
       "<table border=\"1\" class=\"dataframe\">\n",
       "  <thead>\n",
       "    <tr style=\"text-align: right;\">\n",
       "      <th></th>\n",
       "      <th>barcode</th>\n",
       "      <th>x</th>\n",
       "      <th>y</th>\n",
       "      <th>z</th>\n",
       "      <th>umis</th>\n",
       "      <th>snp_umis</th>\n",
       "      <th>clone</th>\n",
       "      <th>tumor_purity</th>\n",
       "    </tr>\n",
       "  </thead>\n",
       "  <tbody>\n",
       "    <tr>\n",
       "      <th>0</th>\n",
       "      <td>VIS00000</td>\n",
       "      <td>-15.0</td>\n",
       "      <td>0.000000</td>\n",
       "      <td>2.5</td>\n",
       "      <td>3778</td>\n",
       "      <td>311</td>\n",
       "      <td>-1</td>\n",
       "      <td>0.0</td>\n",
       "    </tr>\n",
       "    <tr>\n",
       "      <th>1</th>\n",
       "      <td>VIS00001</td>\n",
       "      <td>-14.0</td>\n",
       "      <td>0.000000</td>\n",
       "      <td>2.5</td>\n",
       "      <td>4369</td>\n",
       "      <td>306</td>\n",
       "      <td>-1</td>\n",
       "      <td>0.0</td>\n",
       "    </tr>\n",
       "    <tr>\n",
       "      <th>2</th>\n",
       "      <td>VIS00002</td>\n",
       "      <td>-13.0</td>\n",
       "      <td>0.000000</td>\n",
       "      <td>2.5</td>\n",
       "      <td>2788</td>\n",
       "      <td>548</td>\n",
       "      <td>-1</td>\n",
       "      <td>0.0</td>\n",
       "    </tr>\n",
       "    <tr>\n",
       "      <th>3</th>\n",
       "      <td>VIS00003</td>\n",
       "      <td>-12.0</td>\n",
       "      <td>0.000000</td>\n",
       "      <td>2.5</td>\n",
       "      <td>2579</td>\n",
       "      <td>642</td>\n",
       "      <td>-1</td>\n",
       "      <td>0.0</td>\n",
       "    </tr>\n",
       "    <tr>\n",
       "      <th>4</th>\n",
       "      <td>VIS00004</td>\n",
       "      <td>-11.0</td>\n",
       "      <td>0.000000</td>\n",
       "      <td>2.5</td>\n",
       "      <td>2567</td>\n",
       "      <td>696</td>\n",
       "      <td>-1</td>\n",
       "      <td>0.0</td>\n",
       "    </tr>\n",
       "    <tr>\n",
       "      <th>...</th>\n",
       "      <td>...</td>\n",
       "      <td>...</td>\n",
       "      <td>...</td>\n",
       "      <td>...</td>\n",
       "      <td>...</td>\n",
       "      <td>...</td>\n",
       "      <td>...</td>\n",
       "      <td>...</td>\n",
       "    </tr>\n",
       "    <tr>\n",
       "      <th>4895</th>\n",
       "      <td>VIS04895</td>\n",
       "      <td>84.5</td>\n",
       "      <td>59.755753</td>\n",
       "      <td>2.5</td>\n",
       "      <td>2133</td>\n",
       "      <td>601</td>\n",
       "      <td>-1</td>\n",
       "      <td>0.0</td>\n",
       "    </tr>\n",
       "    <tr>\n",
       "      <th>4896</th>\n",
       "      <td>VIS04896</td>\n",
       "      <td>85.5</td>\n",
       "      <td>59.755753</td>\n",
       "      <td>2.5</td>\n",
       "      <td>2394</td>\n",
       "      <td>640</td>\n",
       "      <td>-1</td>\n",
       "      <td>0.0</td>\n",
       "    </tr>\n",
       "    <tr>\n",
       "      <th>4897</th>\n",
       "      <td>VIS04897</td>\n",
       "      <td>86.5</td>\n",
       "      <td>59.755753</td>\n",
       "      <td>2.5</td>\n",
       "      <td>2766</td>\n",
       "      <td>601</td>\n",
       "      <td>-1</td>\n",
       "      <td>0.0</td>\n",
       "    </tr>\n",
       "    <tr>\n",
       "      <th>4898</th>\n",
       "      <td>VIS04898</td>\n",
       "      <td>87.5</td>\n",
       "      <td>59.755753</td>\n",
       "      <td>2.5</td>\n",
       "      <td>3008</td>\n",
       "      <td>381</td>\n",
       "      <td>-1</td>\n",
       "      <td>0.0</td>\n",
       "    </tr>\n",
       "    <tr>\n",
       "      <th>4899</th>\n",
       "      <td>VIS04899</td>\n",
       "      <td>88.5</td>\n",
       "      <td>59.755753</td>\n",
       "      <td>2.5</td>\n",
       "      <td>1966</td>\n",
       "      <td>541</td>\n",
       "      <td>2</td>\n",
       "      <td>1.0</td>\n",
       "    </tr>\n",
       "  </tbody>\n",
       "</table>\n",
       "<p>4900 rows × 8 columns</p>\n",
       "</div>"
      ],
      "text/plain": [
       "       barcode     x          y    z  umis  snp_umis  clone  tumor_purity\n",
       "0     VIS00000 -15.0   0.000000  2.5  3778       311     -1           0.0\n",
       "1     VIS00001 -14.0   0.000000  2.5  4369       306     -1           0.0\n",
       "2     VIS00002 -13.0   0.000000  2.5  2788       548     -1           0.0\n",
       "3     VIS00003 -12.0   0.000000  2.5  2579       642     -1           0.0\n",
       "4     VIS00004 -11.0   0.000000  2.5  2567       696     -1           0.0\n",
       "...        ...   ...        ...  ...   ...       ...    ...           ...\n",
       "4895  VIS04895  84.5  59.755753  2.5  2133       601     -1           0.0\n",
       "4896  VIS04896  85.5  59.755753  2.5  2394       640     -1           0.0\n",
       "4897  VIS04897  86.5  59.755753  2.5  2766       601     -1           0.0\n",
       "4898  VIS04898  87.5  59.755753  2.5  3008       381     -1           0.0\n",
       "4899  VIS04899  88.5  59.755753  2.5  1966       541      2           1.0\n",
       "\n",
       "[4900 rows x 8 columns]"
      ]
     },
     "execution_count": 5,
     "metadata": {},
     "output_type": "execute_result"
    }
   ],
   "source": [
    "spots = get_spots(config, run_id, sample_name)\n",
    "meta = get_meta(config, run_id, sample_name)\n",
    "truth = get_truth(config, run_id, sample_name)\n",
    "\n",
    "df = pd.merge(spots, meta, on=\"barcode\")\n",
    "df = pd.merge(df, truth, on=\"barcode\")\n",
    "df"
   ]
  },
  {
   "cell_type": "code",
   "execution_count": 6,
   "id": "a8e92486-f3b6-4c1a-8f29-1dfd76a48f01",
   "metadata": {},
   "outputs": [
    {
     "data": {
      "text/plain": [
       "array([-1,  1,  2,  3])"
      ]
     },
     "execution_count": 6,
     "metadata": {},
     "output_type": "execute_result"
    }
   ],
   "source": [
    "clone_ids = np.unique(df[\"clone\"])\n",
    "clone_ids"
   ]
  },
  {
   "cell_type": "code",
   "execution_count": 7,
   "id": "60d9a320-155a-424c-8eac-4405a5b4d84a",
   "metadata": {},
   "outputs": [
    {
     "data": {
      "text/plain": [
       "[[['2,1', 381500, 481500],\n",
       "  ['2,1', 577000, 677000],\n",
       "  ['1,0', 201500, 301500],\n",
       "  ['2,2', 1050500, 1150500],\n",
       "  ['1,1', 848000, 948000],\n",
       "  ['1,0', 313500, 413500],\n",
       "  ['2,2', 293000, 393000],\n",
       "  ['2,1', 824000, 924000],\n",
       "  ['1,0', 721500, 821500],\n",
       "  ['2,1', 722500, 822500]],\n",
       " [['2,1', 246000, 346000],\n",
       "  ['1,1', 510500, 610500],\n",
       "  ['2,2', 478000, 578000],\n",
       "  ['2,2', 852000, 952000],\n",
       "  ['1,0', 80000, 180000],\n",
       "  ['1,1', 801500, 901500],\n",
       "  ['1,1', 198500, 298500],\n",
       "  ['2,2', 650000, 750000],\n",
       "  ['1,0', 407500, 507500],\n",
       "  ['2,1', 763500, 863500]],\n",
       " [['2,1', 381500, 481500],\n",
       "  ['2,1', 311500, 411500],\n",
       "  ['2,1', 508000, 608000],\n",
       "  ['1,0', 440000, 540000],\n",
       "  ['2,2', 1024500, 1124500],\n",
       "  ['1,0', 663500, 763500],\n",
       "  ['2,2', 226000, 326000],\n",
       "  ['1,1', 591500, 691500],\n",
       "  ['1,1', 1028000, 1128000],\n",
       "  ['1,1', 841000, 941000]]]"
      ]
     },
     "execution_count": 7,
     "metadata": {},
     "output_type": "execute_result"
    }
   ],
   "source": [
    "cnas = get_cnas(config, clone_ids)\n",
    "cnas"
   ]
  },
  {
   "cell_type": "code",
   "execution_count": 14,
   "id": "5312bd4a-1190-4573-a7a7-b17f00b7b3a8",
   "metadata": {},
   "outputs": [],
   "source": [
    "num_segments = config.mappable_genome_kbp // config.segment_size_kbp\n",
    "\n",
    "segments = config.segment_size_kbp * np.arange(num_segments) / 1.0e3\n",
    "rdrs, bafs = construct_frac_cnas(num_segments, config.segment_size_kbp, 1.0, cnas[0])"
   ]
  },
  {
   "cell_type": "code",
   "execution_count": 15,
   "id": "a4ee9c57-abd9-48ba-a3ec-425b4b3e7093",
   "metadata": {},
   "outputs": [
    {
     "data": {
      "text/plain": [
       "Text(0.5, 0, 'Mappable genome [1Mb]')"
      ]
     },
     "execution_count": 15,
     "metadata": {},
     "output_type": "execute_result"
    },
    {
     "data": {
      "image/png": "[encoded data removed]",
      "text/plain": [
       "<Figure size 640x480 with 1 Axes>"
      ]
     },
     "metadata": {},
     "output_type": "display_data"
    }
   ],
   "source": [
    "pl.plot(segments, rdrs)\n",
    "# pl.xlim(0.0, 1.0)\n",
    "pl.ylim(0.0, 4.0)\n",
    "\n",
    "pl.xlabel(\"Mappable genome [1Mb]\")"
   ]
  },
  {
   "cell_type": "markdown",
   "id": "68037d93-5737-4c2c-9367-68a182e87a2f",
   "metadata": {},
   "source": [
    "# Done."
   ]
  }
 ],
 "metadata": {
  "kernelspec": {
   "display_name": "Python (cnaster)",
   "language": "python",
   "name": "cnaster"
  },
  "language_info": {
   "codemirror_mode": {
    "name": "ipython",
    "version": 3
   },
   "file_extension": ".py",
   "mimetype": "text/x-python",
   "name": "python",
   "nbconvert_exporter": "python",
   "pygments_lexer": "ipython3",
   "version": "3.12.2"
  }
 },
 "nbformat": 4,
 "nbformat_minor": 5
}

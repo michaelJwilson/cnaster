{
 "cells": [
  {
   "cell_type": "code",
   "execution_count": 1,
   "id": "3a6a4d61-5adc-4a4e-b5ee-3b2bd7eadb8a",
   "metadata": {},
   "outputs": [],
   "source": [
    "%load_ext autoreload\n",
    "%autoreload 3"
   ]
  },
  {
   "cell_type": "code",
   "execution_count": 2,
   "id": "cbe83829-ede9-4844-bc49-0a6ac8c94478",
   "metadata": {},
   "outputs": [],
   "source": [
    "import logging\n",
    "import pandas as pd\n",
    "import numpy as np\n",
    "import pylab as pl\n",
    "\n",
    "from cnaster.config import JSONConfig\n",
    "from cnaster.io import get_spots, get_meta, get_umis\n",
    "from cnaster.sim.io import get_truth\n",
    "from cnaster.sim.clone import (\n",
    "    Clone,\n",
    "    get_clones,\n",
    "    query_clones,\n",
    "    construct_frac_cnas,\n",
    "    get_cnas,\n",
    ")"
   ]
  },
  {
   "cell_type": "code",
   "execution_count": 3,
   "id": "17ca68e4-33c7-456f-a3c5-ac6768877b64",
   "metadata": {},
   "outputs": [],
   "source": [
    "logging.basicConfig(\n",
    "    level=logging.INFO,\n",
    "    format=\"%(asctime)s - %(name)s - %(levelname)s - %(filename)s:%(lineno)d - %(message)s\",\n",
    "    datefmt=\"%Y-%m-%d %H:%M:%S\",\n",
    ")\n",
    "\n",
    "logger = logging.getLogger(__name__)"
   ]
  },
  {
   "cell_type": "markdown",
   "id": "2d8408d4-406f-4147-ba3f-fbcd1d977626",
   "metadata": {},
   "source": [
    "# NOTES\n",
    "- current sim. configuration assumes tumor purity of unity"
   ]
  },
  {
   "cell_type": "code",
   "execution_count": 4,
   "id": "ebfd5d14-0750-4f38-96e4-f18e73633ffb",
   "metadata": {},
   "outputs": [],
   "source": [
    "run_id = 0\n",
    "cpath = \"/Users/mw9568/repos/cnaster/sim_config.json\"\n",
    "sample_name = \"cnaster_002\"\n",
    "\n",
    "config = JSONConfig.from_file(cpath)"
   ]
  },
  {
   "cell_type": "code",
   "execution_count": 5,
   "id": "5e971f9e-33fa-4a41-8306-2109d32a4fa5",
   "metadata": {},
   "outputs": [
    {
     "name": "stderr",
     "output_type": "stream",
     "text": [
      "2025-06-17 10:32:12 - cnaster.io - INFO - io.py:13 - Reading spots from /Users/mw9568/scratch/cnaster/run0/cnaster_002/cnaster_002_visium.tsv.gz\n"
     ]
    },
    {
     "data": {
      "text/html": [
       "<div>\n",
       "<style scoped>\n",
       "    .dataframe tbody tr th:only-of-type {\n",
       "        vertical-align: middle;\n",
       "    }\n",
       "\n",
       "    .dataframe tbody tr th {\n",
       "        vertical-align: top;\n",
       "    }\n",
       "\n",
       "    .dataframe thead th {\n",
       "        text-align: right;\n",
       "    }\n",
       "</style>\n",
       "<table border=\"1\" class=\"dataframe\">\n",
       "  <thead>\n",
       "    <tr style=\"text-align: right;\">\n",
       "      <th></th>\n",
       "      <th>barcode</th>\n",
       "      <th>x</th>\n",
       "      <th>y</th>\n",
       "      <th>z</th>\n",
       "      <th>umis</th>\n",
       "      <th>snp_umis</th>\n",
       "      <th>clone</th>\n",
       "      <th>tumor_purity</th>\n",
       "    </tr>\n",
       "  </thead>\n",
       "  <tbody>\n",
       "    <tr>\n",
       "      <th>0</th>\n",
       "      <td>VIS00000</td>\n",
       "      <td>-15.0</td>\n",
       "      <td>0.000000</td>\n",
       "      <td>2.5</td>\n",
       "      <td>4255</td>\n",
       "      <td>363</td>\n",
       "      <td>-1</td>\n",
       "      <td>0.0</td>\n",
       "    </tr>\n",
       "    <tr>\n",
       "      <th>1</th>\n",
       "      <td>VIS00001</td>\n",
       "      <td>-14.0</td>\n",
       "      <td>0.000000</td>\n",
       "      <td>2.5</td>\n",
       "      <td>1187</td>\n",
       "      <td>340</td>\n",
       "      <td>-1</td>\n",
       "      <td>0.0</td>\n",
       "    </tr>\n",
       "    <tr>\n",
       "      <th>2</th>\n",
       "      <td>VIS00002</td>\n",
       "      <td>-13.0</td>\n",
       "      <td>0.000000</td>\n",
       "      <td>2.5</td>\n",
       "      <td>2453</td>\n",
       "      <td>886</td>\n",
       "      <td>-1</td>\n",
       "      <td>0.0</td>\n",
       "    </tr>\n",
       "    <tr>\n",
       "      <th>3</th>\n",
       "      <td>VIS00003</td>\n",
       "      <td>-12.0</td>\n",
       "      <td>0.000000</td>\n",
       "      <td>2.5</td>\n",
       "      <td>2764</td>\n",
       "      <td>324</td>\n",
       "      <td>-1</td>\n",
       "      <td>0.0</td>\n",
       "    </tr>\n",
       "    <tr>\n",
       "      <th>4</th>\n",
       "      <td>VIS00004</td>\n",
       "      <td>-11.0</td>\n",
       "      <td>0.000000</td>\n",
       "      <td>2.5</td>\n",
       "      <td>2995</td>\n",
       "      <td>362</td>\n",
       "      <td>-1</td>\n",
       "      <td>0.0</td>\n",
       "    </tr>\n",
       "    <tr>\n",
       "      <th>...</th>\n",
       "      <td>...</td>\n",
       "      <td>...</td>\n",
       "      <td>...</td>\n",
       "      <td>...</td>\n",
       "      <td>...</td>\n",
       "      <td>...</td>\n",
       "      <td>...</td>\n",
       "      <td>...</td>\n",
       "    </tr>\n",
       "    <tr>\n",
       "      <th>4895</th>\n",
       "      <td>VIS04895</td>\n",
       "      <td>84.5</td>\n",
       "      <td>59.755753</td>\n",
       "      <td>2.5</td>\n",
       "      <td>2386</td>\n",
       "      <td>372</td>\n",
       "      <td>4</td>\n",
       "      <td>1.0</td>\n",
       "    </tr>\n",
       "    <tr>\n",
       "      <th>4896</th>\n",
       "      <td>VIS04896</td>\n",
       "      <td>85.5</td>\n",
       "      <td>59.755753</td>\n",
       "      <td>2.5</td>\n",
       "      <td>2528</td>\n",
       "      <td>432</td>\n",
       "      <td>4</td>\n",
       "      <td>1.0</td>\n",
       "    </tr>\n",
       "    <tr>\n",
       "      <th>4897</th>\n",
       "      <td>VIS04897</td>\n",
       "      <td>86.5</td>\n",
       "      <td>59.755753</td>\n",
       "      <td>2.5</td>\n",
       "      <td>2414</td>\n",
       "      <td>419</td>\n",
       "      <td>4</td>\n",
       "      <td>1.0</td>\n",
       "    </tr>\n",
       "    <tr>\n",
       "      <th>4898</th>\n",
       "      <td>VIS04898</td>\n",
       "      <td>87.5</td>\n",
       "      <td>59.755753</td>\n",
       "      <td>2.5</td>\n",
       "      <td>4533</td>\n",
       "      <td>173</td>\n",
       "      <td>4</td>\n",
       "      <td>1.0</td>\n",
       "    </tr>\n",
       "    <tr>\n",
       "      <th>4899</th>\n",
       "      <td>VIS04899</td>\n",
       "      <td>88.5</td>\n",
       "      <td>59.755753</td>\n",
       "      <td>2.5</td>\n",
       "      <td>2272</td>\n",
       "      <td>372</td>\n",
       "      <td>4</td>\n",
       "      <td>1.0</td>\n",
       "    </tr>\n",
       "  </tbody>\n",
       "</table>\n",
       "<p>4900 rows × 8 columns</p>\n",
       "</div>"
      ],
      "text/plain": [
       "       barcode     x          y    z  umis  snp_umis  clone  tumor_purity\n",
       "0     VIS00000 -15.0   0.000000  2.5  4255       363     -1           0.0\n",
       "1     VIS00001 -14.0   0.000000  2.5  1187       340     -1           0.0\n",
       "2     VIS00002 -13.0   0.000000  2.5  2453       886     -1           0.0\n",
       "3     VIS00003 -12.0   0.000000  2.5  2764       324     -1           0.0\n",
       "4     VIS00004 -11.0   0.000000  2.5  2995       362     -1           0.0\n",
       "...        ...   ...        ...  ...   ...       ...    ...           ...\n",
       "4895  VIS04895  84.5  59.755753  2.5  2386       372      4           1.0\n",
       "4896  VIS04896  85.5  59.755753  2.5  2528       432      4           1.0\n",
       "4897  VIS04897  86.5  59.755753  2.5  2414       419      4           1.0\n",
       "4898  VIS04898  87.5  59.755753  2.5  4533       173      4           1.0\n",
       "4899  VIS04899  88.5  59.755753  2.5  2272       372      4           1.0\n",
       "\n",
       "[4900 rows x 8 columns]"
      ]
     },
     "execution_count": 5,
     "metadata": {},
     "output_type": "execute_result"
    }
   ],
   "source": [
    "spots = get_spots(config, run_id, sample_name)\n",
    "meta = get_meta(config, run_id, sample_name)\n",
    "truth = get_truth(config, run_id, sample_name)\n",
    "\n",
    "df = pd.merge(spots, meta, on=\"barcode\")\n",
    "df = pd.merge(df, truth, on=\"barcode\")\n",
    "df"
   ]
  },
  {
   "cell_type": "code",
   "execution_count": 6,
   "id": "081b871b-f25d-4e41-8a0b-c095751fd2db",
   "metadata": {},
   "outputs": [
    {
     "data": {
      "text/plain": [
       "<matplotlib.collections.PathCollection at 0x164b9e540>"
      ]
     },
     "execution_count": 6,
     "metadata": {},
     "output_type": "execute_result"
    },
    {
     "data": {
      "image/png": "[encoded data removed]",
      "text/plain": [
       "<Figure size 640x480 with 1 Axes>"
      ]
     },
     "metadata": {},
     "output_type": "display_data"
    }
   ],
   "source": [
    "pl.scatter(df[\"x\"], df[\"y\"], c=df[\"clone\"])"
   ]
  },
  {
   "cell_type": "code",
   "execution_count": 7,
   "id": "a8e92486-f3b6-4c1a-8f29-1dfd76a48f01",
   "metadata": {},
   "outputs": [
    {
     "data": {
      "text/plain": [
       "array([-1,  1,  2,  4])"
      ]
     },
     "execution_count": 7,
     "metadata": {},
     "output_type": "execute_result"
    }
   ],
   "source": [
    "clone_ids = np.unique(df[\"clone\"])\n",
    "clone_ids"
   ]
  },
  {
   "cell_type": "code",
   "execution_count": 8,
   "id": "cc910d7f-334e-42f8-80bc-97bae4d2b004",
   "metadata": {},
   "outputs": [
    {
     "data": {
      "text/plain": [
       "4"
      ]
     },
     "execution_count": 8,
     "metadata": {},
     "output_type": "execute_result"
    }
   ],
   "source": [
    "clones = get_clones(config)\n",
    "len(clones)"
   ]
  },
  {
   "cell_type": "code",
   "execution_count": 9,
   "id": "60d9a320-155a-424c-8eac-4405a5b4d84a",
   "metadata": {},
   "outputs": [
    {
     "data": {
      "text/plain": [
       "[[['1,1', 395500, 495500],\n",
       "  ['1,1', 395500, 495500],\n",
       "  ['1,0', 198500, 298500],\n",
       "  ['1,1', 435000, 535000],\n",
       "  ['2,2', 196000, 296000],\n",
       "  ['1,1', 103000, 203000],\n",
       "  ['1,0', 519000, 619000],\n",
       "  ['2,2', 940500, 1040500],\n",
       "  ['1,0', 742000, 842000],\n",
       "  ['2,2', 431500, 531500]],\n",
       " [['1,1', 381500, 481500],\n",
       "  ['1,1', 381500, 481500],\n",
       "  ['1,1', 395500, 495500],\n",
       "  ['1,0', 281500, 381500],\n",
       "  ['1,1', 510000, 610000],\n",
       "  ['1,0', 47500, 147500],\n",
       "  ['1,0', 961500, 1061500],\n",
       "  ['2,1', 878500, 978500],\n",
       "  ['2,1', 839000, 939000],\n",
       "  ['1,1', 270000, 370000]],\n",
       " [['2,2', 246000, 346000],\n",
       "  ['1,0', 875500, 975500],\n",
       "  ['1,1', 402000, 502000],\n",
       "  ['1,0', 1073000, 1173000],\n",
       "  ['1,1', 947500, 1047500],\n",
       "  ['2,1', 785000, 885000],\n",
       "  ['2,1', 480000, 580000],\n",
       "  ['2,2', 742500, 842500],\n",
       "  ['2,1', 514000, 614000],\n",
       "  ['2,1', 251000, 351000]]]"
      ]
     },
     "execution_count": 9,
     "metadata": {},
     "output_type": "execute_result"
    }
   ],
   "source": [
    "cnas = get_cnas(config, clone_ids)\n",
    "cnas"
   ]
  },
  {
   "cell_type": "code",
   "execution_count": 10,
   "id": "5312bd4a-1190-4573-a7a7-b17f00b7b3a8",
   "metadata": {},
   "outputs": [],
   "source": [
    "num_segments = config.mappable_genome_kbp // config.segment_size_kbp\n",
    "\n",
    "segments = config.segment_size_kbp * np.arange(num_segments) / 1.0e3\n",
    "rdrs, bafs = construct_frac_cnas(num_segments, config.segment_size_kbp, 1.0, cnas[0])"
   ]
  },
  {
   "cell_type": "code",
   "execution_count": 11,
   "id": "a4ee9c57-abd9-48ba-a3ec-425b4b3e7093",
   "metadata": {},
   "outputs": [
    {
     "data": {
      "text/plain": [
       "Text(0.5, 0, 'Mappable genome [1Mb]')"
      ]
     },
     "execution_count": 11,
     "metadata": {},
     "output_type": "execute_result"
    },
    {
     "data": {
      "image/png": "[encoded data removed]",
      "text/plain": [
       "<Figure size 640x480 with 1 Axes>"
      ]
     },
     "metadata": {},
     "output_type": "display_data"
    }
   ],
   "source": [
    "pl.plot(segments, rdrs)\n",
    "# pl.xlim(0.0, 1.0)\n",
    "pl.ylim(0.0, 4.0)\n",
    "\n",
    "pl.xlabel(\"Mappable genome [1Mb]\")"
   ]
  },
  {
   "cell_type": "markdown",
   "id": "68037d93-5737-4c2c-9367-68a182e87a2f",
   "metadata": {},
   "source": [
    "# Done."
   ]
  }
 ],
 "metadata": {
  "kernelspec": {
   "display_name": "Python (cnaster)",
   "language": "python",
   "name": "cnaster"
  },
  "language_info": {
   "codemirror_mode": {
    "name": "ipython",
    "version": 3
   },
   "file_extension": ".py",
   "mimetype": "text/x-python",
   "name": "python",
   "nbconvert_exporter": "python",
   "pygments_lexer": "ipython3",
   "version": "3.12.2"
  }
 },
 "nbformat": 4,
 "nbformat_minor": 5
}
